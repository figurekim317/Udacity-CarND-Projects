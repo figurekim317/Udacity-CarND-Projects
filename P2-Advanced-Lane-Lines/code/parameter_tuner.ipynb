{
 "cells": [
  {
   "cell_type": "markdown",
   "source": [
    "# Parameter Tuner"
   ],
   "metadata": {}
  },
  {
   "cell_type": "markdown",
   "source": [
    "## Load"
   ],
   "metadata": {}
  },
  {
   "cell_type": "code",
   "execution_count": 1,
   "source": [
    "import cv2\r\n",
    "import matplotlib.pyplot as plt\r\n",
    "import numpy as np\r\n",
    "import glob\r\n",
    "\r\n",
    "from utils.calibrator import Calibrator\r\n",
    "from utils.gradient_threshold import GradientThreshold\r\n",
    "from utils.color_threshold import ColorThreshold\r\n",
    "%matplotlib inline\r\n",
    "\r\n",
    "test_image = cv2.imread(\"../media/test_images/test6.jpg\")\r\n",
    "test_imshape = test_image.shape\r\n",
    "\r\n",
    "calibrator = Calibrator('../media/camera_cal/calibration*.jpg')\r\n",
    "undist_image = calibrator.undistort(test_image)\r\n",
    "\r\n",
    "grad_thresh = GradientThreshold(sobel_kernel=15, mag_thresh=(70, 255), dir_thresh=(0.5, 1.3))\r\n",
    "color_thresh = ColorThreshold(white_s_thresh=(0, 255), white_b_thresh=(208, 255), yellow_s_thresh=(100, 255), yellow_b_thresh=(130, 255))\r\n"
   ],
   "outputs": [],
   "metadata": {
    "collapsed": true
   }
  },
  {
   "cell_type": "markdown",
   "source": [
    "## 1. Distortion Correction Demo"
   ],
   "metadata": {}
  },
  {
   "cell_type": "code",
   "execution_count": 2,
   "source": [
    "images = glob.glob('../media/camera_cal/calibration*.jpg')\r\n",
    "for fname in images:\r\n",
    "    img = cv2.imread(fname)\r\n",
    "    undist = calibrator.undistort(img)\r\n",
    "\r\n",
    "    # Draw and display the corners\r\n",
    "    cv2.imshow('undist',undist)\r\n",
    "    cv2.waitKey(500)\r\n",
    "\r\n",
    "cv2.destroyAllWindows()"
   ],
   "outputs": [],
   "metadata": {}
  },
  {
   "cell_type": "markdown",
   "source": [
    "## 2-1. Gradient Threshold Tuner\r\n",
    "Threshold\r\n",
    "- mag low: 50\r\n",
    "- mag high: 255\r\n",
    "- dir low: 0.7 rad\r\n",
    "- dir high: 1.3 rad"
   ],
   "metadata": {}
  },
  {
   "cell_type": "code",
   "execution_count": 17,
   "source": [
    "import ipywidgets as widgets\r\n",
    "from IPython.display import display\r\n",
    "%matplotlib inline\r\n",
    "\r\n",
    "\r\n",
    "# update callback\r\n",
    "def mod_grad_threshold(image, mag_low, mag_high, dir_low, dir_high):\r\n",
    "    grad_thresh.set_mag_thresh((mag_low, mag_high))\r\n",
    "    grad_thresh.set_dir_thresh((dir_low, dir_high))\r\n",
    "    grad_binary = grad_thresh.grad_select(undist_image)\r\n",
    "\r\n",
    "    plt.imshow(grad_binary, cmap='gray')\r\n",
    "\r\n",
    "\r\n",
    "mag_low = widgets.IntSlider(min=0, max=255, description='mag low', value=50)\r\n",
    "mag_high = widgets.IntSlider(min=0, max=255, description='mag high', value=255)\r\n",
    "dir_low = widgets.FloatSlider(min=0, max=np.pi, description='mag low', value=0.7)\r\n",
    "dir_high = widgets.FloatSlider(min=0, max=np.pi, description='mag high', value=1.3)\r\n",
    "\r\n",
    "output = widgets.interact(lambda mag_low, mag_high, dir_low, dir_high: \\\r\n",
    "                mod_grad_threshold(undist_image, mag_low, mag_high, dir_low, dir_high),\r\n",
    "                mag_low=mag_low,\r\n",
    "                mag_high=mag_high,\r\n",
    "                dir_low=dir_low,\r\n",
    "                dir_high=dir_high)"
   ],
   "outputs": [
    {
     "output_type": "display_data",
     "data": {
      "text/plain": [
       "interactive(children=(IntSlider(value=50, description='mag low', max=255), IntSlider(value=255, description='m…"
      ],
      "application/vnd.jupyter.widget-view+json": {
       "version_major": 2,
       "version_minor": 0,
       "model_id": "16713bfee9d740a18f5f215009afc0e5"
      }
     },
     "metadata": {}
    }
   ],
   "metadata": {}
  },
  {
   "cell_type": "markdown",
   "source": [
    "## 2-2. Color Tuner\r\n",
    "**White**\r\n",
    "- Saturation (0, 255)\r\n",
    "- Brightness (208, 255)\r\n",
    "\r\n",
    "**Yellow**\r\n",
    "- Saturation (100, 255)\r\n",
    "- Brightness (130, 255)"
   ],
   "metadata": {}
  },
  {
   "cell_type": "code",
   "execution_count": 20,
   "source": [
    "import ipywidgets as widgets\r\n",
    "from IPython.display import display\r\n",
    "\r\n",
    "# update color threshold\r\n",
    "def mod_hls_threshold(image, s_thresh_low, s_thresh_high, b_thresh_low, b_thresh_high):\r\n",
    "    color_thresh.set_white_thresh((s_thresh_low, s_thresh_high), (b_thresh_low, b_thresh_high))\r\n",
    "\r\n",
    "    hls_binary = color_thresh.hls_select_white(image)\r\n",
    "    plt.imshow(hls_binary, cmap='gray')\r\n",
    "\r\n",
    "s_thresh_low = widgets.IntSlider(min=0, max=255, description='sat low', value=150)\r\n",
    "s_thresh_high = widgets.IntSlider(min=0, max=255, description='sat high', value=255)\r\n",
    "b_thresh_low = widgets.IntSlider(min=0, max=255, description='b low', value=200)\r\n",
    "b_thresh_high = widgets.IntSlider(min=0, max=255, description='b high', value=255)\r\n",
    "\r\n",
    "output = widgets.interact(lambda s_thresh_low, s_thresh_high, b_thresh_low, b_thresh_high: \\\r\n",
    "                mod_hls_threshold(undist_image, s_thresh_low, s_thresh_high, b_thresh_low, b_thresh_high),\r\n",
    "                s_thresh_low=s_thresh_low,\r\n",
    "                s_thresh_high=s_thresh_high,\r\n",
    "                b_thresh_low=b_thresh_low, \r\n",
    "                b_thresh_high=b_thresh_high)"
   ],
   "outputs": [
    {
     "output_type": "display_data",
     "data": {
      "text/plain": [
       "interactive(children=(IntSlider(value=150, description='sat low', max=255), IntSlider(value=255, description='…"
      ],
      "application/vnd.jupyter.widget-view+json": {
       "version_major": 2,
       "version_minor": 0,
       "model_id": "7b7cd18d85e6479eb93d38586e19ad58"
      }
     },
     "metadata": {}
    }
   ],
   "metadata": {}
  },
  {
   "cell_type": "markdown",
   "source": [
    "## 3-1. Finding Region of Interest\r\n",
    "Corner Point\r\n",
    "- 575, 460\r\n",
    "- 705, 460\r\n",
    "- 1130, 720\r\n",
    "- 150, 720"
   ],
   "metadata": {}
  },
  {
   "cell_type": "code",
   "execution_count": 3,
   "source": [
    "import ipywidgets as widgets\r\n",
    "from IPython.display import display\r\n",
    "%matplotlib qt\r\n",
    "\r\n",
    "def region_of_interest(img, vertices):\r\n",
    "    \"\"\"\r\n",
    "    Applies an image mask.\r\n",
    "    \r\n",
    "    Only keeps the region of the image defined by the polygon\r\n",
    "    formed from `vertices`. The rest of the image is set to black.\r\n",
    "    `vertices` should be a numpy array of integer points.\r\n",
    "    \"\"\"\r\n",
    "    #defining a blank mask to start with\r\n",
    "    mask = np.zeros_like(img)\r\n",
    "    \r\n",
    "    #defining a 3 channel or 1 channel color to fill the mask with depending on the input image\r\n",
    "    if len(img.shape) > 2:\r\n",
    "        channel_count = img.shape[2]  # i.e. 3 or 4 depending on your image\r\n",
    "        ignore_mask_color = (255,) * channel_count\r\n",
    "    else:\r\n",
    "        ignore_mask_color = 255\r\n",
    "        \r\n",
    "    #filling pixels inside the polygon defined by \"vertices\" with the fill color    \r\n",
    "    cv2.fillPoly(mask, vertices, ignore_mask_color)\r\n",
    "    \r\n",
    "    #returning the image only where mask pixels are nonzero\r\n",
    "    masked_image = cv2.bitwise_and(img, mask)\r\n",
    "    return masked_image\r\n",
    "\r\n",
    "def mod_region(image, x1, y1, x2, y2):\r\n",
    "    imshape = image.shape\r\n",
    "    region_image = region_of_interest(image, np.array([[(150, imshape[0]),(x1, y1), (x2, y2), (1130,imshape[0])]]))\r\n",
    "\r\n",
    "    cv2.imshow(\"region\", region_image)\r\n",
    "\r\n",
    "test_image = cv2.imread(\"../media/test_images/straight_lines1.jpg\")\r\n",
    "test_imshape = test_image.shape\r\n",
    "undist_image = calibrator.undistort(test_image)\r\n",
    "\r\n",
    "print(test_imshape)\r\n",
    "x1_w = widgets.IntSlider(min=0, max=test_imshape[1], description='X1', value=575)\r\n",
    "y1_w = widgets.IntSlider(min=0, max=test_imshape[0], description='Y1', value=460)\r\n",
    "x2_w = widgets.IntSlider(min=0, max=test_imshape[1], description='X1', value=705)\r\n",
    "y2_w = widgets.IntSlider(min=0, max=test_imshape[0], description='Y1', value=460)\r\n",
    "\r\n",
    "output = widgets.interact(lambda x1, y1, x2, y2:\r\n",
    "                mod_region(undist_image, x1, y1, x2, y2),\r\n",
    "                x1=x1_w, y1=y1_w, x2=x2_w, y2=y2_w)"
   ],
   "outputs": [
    {
     "output_type": "stream",
     "name": "stdout",
     "text": [
      "(720, 1280, 3)\n"
     ]
    },
    {
     "output_type": "display_data",
     "data": {
      "text/plain": [
       "interactive(children=(IntSlider(value=575, description='X1', max=1280), IntSlider(value=460, description='Y1',…"
      ],
      "application/vnd.jupyter.widget-view+json": {
       "version_major": 2,
       "version_minor": 0,
       "model_id": "a4e2a4dec45141099a070033a28e956e"
      }
     },
     "metadata": {}
    }
   ],
   "metadata": {}
  }
 ],
 "metadata": {
  "orig_nbformat": 4,
  "language_info": {
   "name": "python",
   "version": "3.9.6",
   "mimetype": "text/x-python",
   "codemirror_mode": {
    "name": "ipython",
    "version": 3
   },
   "pygments_lexer": "ipython3",
   "nbconvert_exporter": "python",
   "file_extension": ".py"
  },
  "kernelspec": {
   "name": "python3",
   "display_name": "Python 3.9.6 64-bit ('carnd-term1': conda)"
  },
  "interpreter": {
   "hash": "dd4e07470463af75103a5bf4e65a77810663443ba4f4b3b8bd44b1fb6af4c7b1"
  }
 },
 "nbformat": 4,
 "nbformat_minor": 2
}